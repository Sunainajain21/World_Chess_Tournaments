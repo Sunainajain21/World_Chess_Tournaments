{
  "cells": [
    {
      "cell_type": "code",
      "execution_count": null,
      "metadata": {
        "colab": {
          "base_uri": "https://localhost:8080/"
        },
        "id": "vyC9ki2iSk2R",
        "outputId": "4afce37b-2ada-4bc3-c010-223ebfa203b0"
      },
      "outputs": [
        {
          "output_type": "stream",
          "name": "stdout",
          "text": [
            "\u001b[33m\r0% [Working]\u001b[0m\r            \rGet:1 https://cloud.r-project.org/bin/linux/ubuntu bionic-cran40/ InRelease [3,626 B]\n",
            "\u001b[33m\r0% [Connecting to archive.ubuntu.com (185.125.190.39)] [Waiting for headers] [1\u001b[0m\u001b[33m\r0% [Connecting to archive.ubuntu.com (185.125.190.39)] [Waiting for headers] [W\u001b[0m\u001b[33m\r0% [1 InRelease gpgv 3,626 B] [Connecting to archive.ubuntu.com (185.125.190.39\u001b[0m\r                                                                               \rIgn:2 https://developer.download.nvidia.com/compute/machine-learning/repos/ubuntu1804/x86_64  InRelease\n",
            "\u001b[33m\r0% [1 InRelease gpgv 3,626 B] [Connecting to archive.ubuntu.com (185.125.190.39\u001b[0m\r                                                                               \rGet:3 https://developer.download.nvidia.com/compute/cuda/repos/ubuntu1804/x86_64  InRelease [1,581 B]\n",
            "\u001b[33m\r0% [1 InRelease gpgv 3,626 B] [Connecting to archive.ubuntu.com (185.125.190.39\u001b[0m\u001b[33m\r0% [1 InRelease gpgv 3,626 B] [Connecting to archive.ubuntu.com (185.125.190.39\u001b[0m\r                                                                               \rGet:4 http://security.ubuntu.com/ubuntu bionic-security InRelease [88.7 kB]\n",
            "Hit:5 https://developer.download.nvidia.com/compute/machine-learning/repos/ubuntu1804/x86_64  Release\n",
            "Hit:6 http://archive.ubuntu.com/ubuntu bionic InRelease\n",
            "Get:7 https://cloud.r-project.org/bin/linux/ubuntu bionic-cran40/ Packages [90.7 kB]\n",
            "Get:8 https://developer.download.nvidia.com/compute/cuda/repos/ubuntu1804/x86_64  Packages [903 kB]\n",
            "Get:9 http://archive.ubuntu.com/ubuntu bionic-updates InRelease [88.7 kB]\n",
            "Get:10 http://ppa.launchpad.net/c2d4u.team/c2d4u4.0+/ubuntu bionic InRelease [15.9 kB]\n",
            "Get:12 http://security.ubuntu.com/ubuntu bionic-security/universe amd64 Packages [1,533 kB]\n",
            "Hit:13 http://ppa.launchpad.net/cran/libgit2/ubuntu bionic InRelease\n",
            "Get:14 http://archive.ubuntu.com/ubuntu bionic-backports InRelease [74.6 kB]\n",
            "Get:15 http://ppa.launchpad.net/deadsnakes/ppa/ubuntu bionic InRelease [15.9 kB]\n",
            "Get:16 http://security.ubuntu.com/ubuntu bionic-security/main amd64 Packages [2,937 kB]\n",
            "Get:17 http://archive.ubuntu.com/ubuntu bionic-updates/universe amd64 Packages [2,310 kB]\n",
            "Get:18 http://security.ubuntu.com/ubuntu bionic-security/restricted amd64 Packages [1,100 kB]\n",
            "Get:19 http://ppa.launchpad.net/graphics-drivers/ppa/ubuntu bionic InRelease [21.3 kB]\n",
            "Get:20 http://archive.ubuntu.com/ubuntu bionic-updates/restricted amd64 Packages [1,141 kB]\n",
            "Get:21 http://archive.ubuntu.com/ubuntu bionic-updates/main amd64 Packages [3,369 kB]\n",
            "Get:22 http://ppa.launchpad.net/c2d4u.team/c2d4u4.0+/ubuntu bionic/main Sources [2,095 kB]\n",
            "Get:23 http://ppa.launchpad.net/c2d4u.team/c2d4u4.0+/ubuntu bionic/main amd64 Packages [1,073 kB]\n",
            "Get:24 http://ppa.launchpad.net/deadsnakes/ppa/ubuntu bionic/main amd64 Packages [45.3 kB]\n",
            "Get:25 http://ppa.launchpad.net/graphics-drivers/ppa/ubuntu bionic/main amd64 Packages [47.7 kB]\n",
            "Fetched 17.0 MB in 5s (3,364 kB/s)\n",
            "Reading package lists... Done\n",
            "Building dependency tree       \n",
            "Reading state information... Done\n",
            "38 packages can be upgraded. Run 'apt list --upgradable' to see them.\n"
          ]
        }
      ],
      "source": [
        "!sudo apt update"
      ]
    },
    {
      "cell_type": "code",
      "execution_count": null,
      "metadata": {
        "id": "OVXRVJZOSrL8"
      },
      "outputs": [],
      "source": [
        "!apt-get install openjdk-8-jdk-headless -qq > /dev/null"
      ]
    },
    {
      "cell_type": "code",
      "execution_count": null,
      "metadata": {
        "id": "KmhVlmZyTFkA"
      },
      "outputs": [],
      "source": [
        "!wget -q https://archive.apache.org/dist/spark/spark-3.1.2/spark-3.1.2-bin-hadoop2.7.tgz\n"
      ]
    },
    {
      "cell_type": "code",
      "execution_count": null,
      "metadata": {
        "id": "0mfdKjK-TM2a"
      },
      "outputs": [],
      "source": [
        "!tar xf spark-3.1.2-bin-hadoop2.7.tgz\n"
      ]
    },
    {
      "cell_type": "code",
      "execution_count": null,
      "metadata": {
        "id": "T6ZYyihRTP7e"
      },
      "outputs": [],
      "source": [
        "import os\n",
        "os.environ[\"JAVA_HOME\"] = \"/usr/lib/jvm/java-8-openjdk-amd64\"\n",
        "os.environ[\"SPARK_HOME\"] = \"/content/spark-3.1.2-bin-hadoop2.7\"\n"
      ]
    },
    {
      "cell_type": "code",
      "execution_count": null,
      "metadata": {
        "id": "zeW8dTYNU5D_"
      },
      "outputs": [],
      "source": [
        "!pip install -q findspark\n",
        "import findspark\n",
        "findspark.init()"
      ]
    },
    {
      "cell_type": "code",
      "execution_count": null,
      "metadata": {
        "id": "ijJZ3ys-U9l3"
      },
      "outputs": [],
      "source": [
        "from pyspark.sql import SparkSession\n",
        "spark = (SparkSession\n",
        "         .builder\n",
        "         .appName(\"Chess_Tournament_Analysis\")\n",
        "         .getOrCreate())\n"
      ]
    },
    {
      "cell_type": "code",
      "source": [
        "import gdown\n",
        "\n",
        "url = \"https://drive.google.com/drive/folders/1QgWPHV_l25Ui9L7et8mkZohAOG59UTkQ\"\n",
        "gdown.download_folder(url, quiet=True, use_cookies=False)"
      ],
      "metadata": {
        "id": "Z9s_2DLnPIzM",
        "outputId": "8bd2d6ab-10f5-43c3-8263-6f71912d3a08",
        "colab": {
          "base_uri": "https://localhost:8080/"
        }
      },
      "execution_count": null,
      "outputs": [
        {
          "output_type": "execute_result",
          "data": {
            "text/plain": [
              "['/content/chess/chess_schema.png',\n",
              " '/content/chess/chess_wc_history_game_info.csv',\n",
              " '/content/chess/chess_wc_history_moves.csv',\n",
              " '/content/chess/eco_codes.csv']"
            ]
          },
          "metadata": {},
          "execution_count": 9
        }
      ]
    },
    {
      "cell_type": "code",
      "source": [
        "df1 = spark.read.load(\"/content/chess/chess_wc_history_game_info.csv\", format=\"csv\", sep=\",\", inferSchema=\"true\", header=\"true\")"
      ],
      "metadata": {
        "id": "DU5QV2VH0FX4"
      },
      "execution_count": null,
      "outputs": []
    },
    {
      "cell_type": "code",
      "source": [
        "df2 = spark.read.load(\"/content/chess/chess_wc_history_moves.csv\", format=\"csv\", sep=\",\", inferSchema=\"true\", header=\"true\")"
      ],
      "metadata": {
        "id": "MQkt5jZI0YWg"
      },
      "execution_count": null,
      "outputs": []
    },
    {
      "cell_type": "code",
      "source": [
        "df3 = spark.read.load(\"/content/chess/eco_codes.csv\", format=\"csv\", sep=\",\", inferSchema=\"true\", header=\"true\")"
      ],
      "metadata": {
        "id": "Q4kZh-8u0hg_"
      },
      "execution_count": null,
      "outputs": []
    },
    {
      "cell_type": "code",
      "source": [
        "from pyspark.sql import functions as F\n"
      ],
      "metadata": {
        "id": "uHm3YZap0mf4"
      },
      "execution_count": null,
      "outputs": []
    },
    {
      "cell_type": "code",
      "source": [
        "#This function will accept spark dataframes and will store in a List.\n",
        "#And at the end this list of spark dataframes will be converted into Pandas \n",
        "#And then it will be saved in the specified drive location in csv format.\n",
        "\n",
        "\n",
        "lst_df = []\n",
        "def my_function(dfff):\n",
        "  lst_df.append(dfff)"
      ],
      "metadata": {
        "id": "lSXDwt43GWO6"
      },
      "execution_count": null,
      "outputs": []
    },
    {
      "cell_type": "markdown",
      "source": [
        "**SOLUTION** **1** : Winners of Each World champions Trophy"
      ],
      "metadata": {
        "id": "XkSiJP0J2vp7"
      }
    },
    {
      "cell_type": "code",
      "source": [
        "result1_df = df1.filter(F.col('tournament_name').contains('WorldChamp')).\\\n",
        "             filter(F.col('winner_loser_elo_diff') > 0).\\\n",
        "             groupBy('winner', 'tournament_name').\\\n",
        "             agg(F.sum('winner_loser_elo_diff').alias('count_val'))\n"
      ],
      "metadata": {
        "id": "SeuD2ODS0wYg"
      },
      "execution_count": null,
      "outputs": []
    },
    {
      "cell_type": "code",
      "source": [
        "df_result2 = result1_df.groupBy('tournament_name').\\\n",
        "             agg(F.max('count_val').alias('mx'))"
      ],
      "metadata": {
        "id": "jWJ_uH620_ma"
      },
      "execution_count": null,
      "outputs": []
    },
    {
      "cell_type": "code",
      "source": [
        "df_r1 = result1_df.alias('tab1').\\\n",
        "       join(df_result2.alias('tab2'),\\\n",
        "            ((F.col('tab1.tournament_name') == F.col('tab2.tournament_name')) & (F.col('tab1.count_val') == F.col('tab2.mx'))), 'inner')"
      ],
      "metadata": {
        "id": "UCZCTJ_41UZa"
      },
      "execution_count": null,
      "outputs": []
    },
    {
      "cell_type": "code",
      "source": [
        "df_r1 = df_r1.select(F.col('tab1.winner'), F.col('tab1.tournament_name'))"
      ],
      "metadata": {
        "id": "Z5z7i1NW1ejD"
      },
      "execution_count": null,
      "outputs": []
    },
    {
      "cell_type": "code",
      "source": [
        "df_r1 = df_r1.sort('tournament_name')"
      ],
      "metadata": {
        "id": "n-2p-nzg1jhD"
      },
      "execution_count": null,
      "outputs": []
    },
    {
      "cell_type": "code",
      "source": [
        "df_r1.show()\n",
        "my_function(df_r1)"
      ],
      "metadata": {
        "colab": {
          "base_uri": "https://localhost:8080/"
        },
        "id": "zu8v_DGY1nEu",
        "outputId": "67831b9e-046e-471c-fbf3-f4824e791860"
      },
      "execution_count": null,
      "outputs": [
        {
          "output_type": "stream",
          "name": "stdout",
          "text": [
            "+--------------------+---------------+\n",
            "|              winner|tournament_name|\n",
            "+--------------------+---------------+\n",
            "|Fischer, Robert J...| WorldChamp1972|\n",
            "|     Karpov, Anatoly| WorldChamp1978|\n",
            "|     Karpov, Anatoly| WorldChamp1981|\n",
            "|      Kasparov, Gary| WorldChamp1984|\n",
            "|     Karpov, Anatoly| WorldChamp1985|\n",
            "|      Kasparov, Gary| WorldChamp1986|\n",
            "|      Kasparov, Gary| WorldChamp1987|\n",
            "|      Kasparov, Gary| WorldChamp1990|\n",
            "|           Kramnik,V| WorldChamp2004|\n",
            "|           Topalov,V| WorldChamp2006|\n",
            "|             Anand,V| WorldChamp2007|\n",
            "|             Anand,V| WorldChamp2008|\n",
            "|           Topalov,V| WorldChamp2010|\n",
            "|             Anand,V| WorldChamp2012|\n",
            "|  Anand, Viswanathan| WorldChamp2012|\n",
            "|     Carlsen, Magnus| WorldChamp2013|\n",
            "|     Carlsen, Magnus| WorldChamp2014|\n",
            "|     Carlsen, Magnus| WorldChamp2016|\n",
            "|           Carlsen,M| WorldChamp2021|\n",
            "+--------------------+---------------+\n",
            "\n"
          ]
        }
      ]
    },
    {
      "cell_type": "markdown",
      "source": [
        "**SOLUTION** **2** :  List of Players with number of times they have won Tournament"
      ],
      "metadata": {
        "id": "wlUOB8kC2610"
      }
    },
    {
      "cell_type": "code",
      "source": [
        "df_r2 = df1.filter(F.col('winner')!='draw').\\\n",
        "        groupBy(F.col('winner').alias('player_name')).\\\n",
        "        agg(F.count(F.col('winner')).alias('number_of_wins')).\\\n",
        "        sort(F.col('number_of_wins').desc())"
      ],
      "metadata": {
        "id": "osm-WGPV1q7R"
      },
      "execution_count": null,
      "outputs": []
    },
    {
      "cell_type": "code",
      "source": [
        "df_r2.show()\n",
        "my_function(df_r2)"
      ],
      "metadata": {
        "colab": {
          "base_uri": "https://localhost:8080/"
        },
        "id": "i9h3WG6E3ssq",
        "outputId": "a93f2781-0a32-4271-c88b-d471efe4528e"
      },
      "execution_count": null,
      "outputs": [
        {
          "output_type": "stream",
          "name": "stdout",
          "text": [
            "+--------------------+--------------+\n",
            "|         player_name|number_of_wins|\n",
            "+--------------------+--------------+\n",
            "|     Lasker, Emanuel|            52|\n",
            "|     Karpov, Anatoly|            47|\n",
            "|  Botvinnik, Mikhail|            46|\n",
            "|   Steinitz, William|            43|\n",
            "| Alekhine, Alexander|            43|\n",
            "|           Topalov,V|            32|\n",
            "|      Kasparov, Gary|            31|\n",
            "|             Anand,V|            30|\n",
            "|    Smyslov, Vassily|            24|\n",
            "|            Adams,Mi|            20|\n",
            "|      Kasimdzhanov,R|            19|\n",
            "|          Grischuk,A|            17|\n",
            "|           Svidler,P|            16|\n",
            "|      Adams, Michael|            16|\n",
            "|            Shirov,A|            15|\n",
            "|             Dreev,A|            15|\n",
            "|            Bareev,E|            15|\n",
            "|   Chigorin, Mikhail|            14|\n",
            "|Khalifman, Alexander|            14|\n",
            "|           Euwe, Max|            14|\n",
            "+--------------------+--------------+\n",
            "only showing top 20 rows\n",
            "\n"
          ]
        }
      ]
    },
    {
      "cell_type": "markdown",
      "source": [
        "**SOLUTION** **3** : Most and Least Popular eco move in world championship history."
      ],
      "metadata": {
        "id": "W-MtY_YCYYSF"
      }
    },
    {
      "cell_type": "code",
      "source": [
        "df_r3 = df1.filter(F.col('eco') != \"\").\\\n",
        "        groupBy('eco').agg(F.count(F.col('eco')).alias('number_of_occurances')).\\\n",
        "        sort(F.col('number_of_occurances').desc(), F.col('eco').asc())"
      ],
      "metadata": {
        "id": "9MHfkwWO4H3X"
      },
      "execution_count": null,
      "outputs": []
    },
    {
      "cell_type": "code",
      "source": [
        "eco1 = df_r3.collect()[0][0]\n",
        "eco2 = df_r3.collect()[df_r3.count() - 1][0]"
      ],
      "metadata": {
        "id": "YQPG0VXrYbK9"
      },
      "execution_count": null,
      "outputs": []
    },
    {
      "cell_type": "code",
      "source": [
        "df_r33 = df_r3.filter((F.col('eco') == eco1) | (F.col('eco') == eco2))"
      ],
      "metadata": {
        "id": "E_t_gWutYwNo"
      },
      "execution_count": null,
      "outputs": []
    },
    {
      "cell_type": "code",
      "source": [
        "df_r33 = df_r33.alias('tab1').\\\n",
        "         join(df3.alias('tab2'),\\\n",
        "              (F.col('tab1.eco') == F.col('tab2.eco')), \"inner\")"
      ],
      "metadata": {
        "id": "meLuDNB8ZopM"
      },
      "execution_count": null,
      "outputs": []
    },
    {
      "cell_type": "code",
      "source": [
        "df_r33 = df_r33.select(F.col(\"tab1.eco\"), F.col('tab2.eco_name'), F.col('tab1.number_of_occurances'))"
      ],
      "metadata": {
        "id": "BscfsjWOaHW3"
      },
      "execution_count": null,
      "outputs": []
    },
    {
      "cell_type": "code",
      "source": [
        "df_r33.show()\n",
        "my_function(df_r33)"
      ],
      "metadata": {
        "colab": {
          "base_uri": "https://localhost:8080/"
        },
        "id": "gGx_hy8-aNUz",
        "outputId": "42448e79-16a6-4ac3-b632-7fa21c47e6c9"
      },
      "execution_count": null,
      "outputs": [
        {
          "output_type": "stream",
          "name": "stdout",
          "text": [
            "+---+--------------------+--------------------+\n",
            "|eco|            eco_name|number_of_occurances|\n",
            "+---+--------------------+--------------------+\n",
            "|C42|      Petrov Defense|                  64|\n",
            "|E99|King's Indian, Or...|                   1|\n",
            "+---+--------------------+--------------------+\n",
            "\n"
          ]
        }
      ]
    },
    {
      "cell_type": "markdown",
      "source": [
        "**SOLUTION** **4** : Eco move with most winnings"
      ],
      "metadata": {
        "id": "ziT0W2BjaXYQ"
      }
    },
    {
      "cell_type": "code",
      "source": [
        "df_4 = df1.filter(F.col('winner') != 'draw').\\\n",
        "       groupBy(F.col('eco')).agg(F.count(F.col('eco')).alias('eco_count')).\\\n",
        "       orderBy(F.col('eco_count').desc()).limit(1)\n"
      ],
      "metadata": {
        "id": "UzXH_VK_aP9Z"
      },
      "execution_count": null,
      "outputs": []
    },
    {
      "cell_type": "code",
      "source": [
        "df_4 = df_4.alias('tab1').join(df3.alias('tab2'),\\\n",
        "                               F.col('tab1.eco') == F.col('tab2.eco'), 'inner').\\\n",
        "        select(F.col('tab1.eco'), F.col('tab2.eco_name'))"
      ],
      "metadata": {
        "id": "q4euvqFza2HR"
      },
      "execution_count": null,
      "outputs": []
    },
    {
      "cell_type": "code",
      "source": [
        "df_4.show()\n",
        "my_function(df_4)"
      ],
      "metadata": {
        "colab": {
          "base_uri": "https://localhost:8080/"
        },
        "id": "rUH7bD-5bKfL",
        "outputId": "20eabf6f-f40d-457f-9936-90109fc18dd8"
      },
      "execution_count": null,
      "outputs": [
        {
          "output_type": "stream",
          "name": "stdout",
          "text": [
            "+---+-----------------+\n",
            "|eco|         eco_name|\n",
            "+---+-----------------+\n",
            "|B90|Sicilian, Najdorf|\n",
            "+---+-----------------+\n",
            "\n"
          ]
        }
      ]
    },
    {
      "cell_type": "markdown",
      "source": [
        "**SOLUTION** **5** :  Longest and shortest game ever played in a world championship in terms of move"
      ],
      "metadata": {
        "id": "dR073xe9bjfX"
      }
    },
    {
      "cell_type": "code",
      "source": [
        "df_51 = df2.groupBy('game_id').\\\n",
        "        agg(F.count(F.col('game_id')).alias('number_of_moves'))"
      ],
      "metadata": {
        "id": "Jle95uRzbQo6"
      },
      "execution_count": null,
      "outputs": []
    },
    {
      "cell_type": "code",
      "source": [
        "df_51 = df_51.select(F.col('game_id'),\\\n",
        "                     F.floor(F.col('number_of_moves') / 2).alias('number_of_moves')).\\\n",
        "        orderBy(F.col('number_of_moves').desc())"
      ],
      "metadata": {
        "id": "72FCF81DbvZb"
      },
      "execution_count": null,
      "outputs": []
    },
    {
      "cell_type": "code",
      "source": [
        "df_52 = df1.filter(F.col('tournament_name').contains('WorldChamp')).\\\n",
        "        select(F.col('game_id'), F.col('event'), F.col('tournament_name'))"
      ],
      "metadata": {
        "id": "awSe3ktxbzgt"
      },
      "execution_count": null,
      "outputs": []
    },
    {
      "cell_type": "code",
      "source": [
        "df_5 = df_52.alias('tab1').join(df_51.alias('tab2'),\\\n",
        "                                F.col('tab1.game_id') == F.col('tab2.game_id'), 'inner').\\\n",
        "        select(F.col('tab1.game_id'), F.col('tab1.event'), F.col('tab1.tournament_name'), F.col('tab2.number_of_moves')).\\\n",
        "        orderBy(F.col('number_of_moves').desc())"
      ],
      "metadata": {
        "id": "uONqwWfXcJhn"
      },
      "execution_count": null,
      "outputs": []
    },
    {
      "cell_type": "code",
      "source": [
        "coll= df_5.collect()\n",
        "lstn=[]\n",
        "lstn.append([coll[0][0], coll[0][1],coll[0][2], coll[0][3] ])\n",
        "lstn.append([coll[df_5.count() - 1][0], coll[df_5.count() - 1][1],coll[df_5.count() - 1][2], coll[df_5.count() - 1][3]])\n",
        "df_5 = spark.createDataFrame(lstn, ['game_id', 'event', 'tournament_name','number_of_moves'])"
      ],
      "metadata": {
        "id": "9nIEBHIIcNtG"
      },
      "execution_count": null,
      "outputs": []
    },
    {
      "cell_type": "code",
      "source": [
        "df_5.show()\n",
        "my_function(df_5)"
      ],
      "metadata": {
        "colab": {
          "base_uri": "https://localhost:8080/"
        },
        "id": "R0XSkMtodBsQ",
        "outputId": "8a290dd6-0a59-42b6-de09-546d264873fa"
      },
      "execution_count": null,
      "outputs": [
        {
          "output_type": "stream",
          "name": "stdout",
          "text": [
            "+--------------------+--------------------+---------------+---------------+\n",
            "|             game_id|               event|tournament_name|number_of_moves|\n",
            "+--------------------+--------------------+---------------+---------------+\n",
            "|58e83255-93bb-4d5...|            WCh 2021| WorldChamp2021|            135|\n",
            "|1846cede-0037-4f0...|World Championshi...| WorldChamp1972|              0|\n",
            "+--------------------+--------------------+---------------+---------------+\n",
            "\n"
          ]
        }
      ]
    },
    {
      "cell_type": "markdown",
      "source": [
        "**SOLUTION** **6** : Shortest and Longest Draw game ever Played."
      ],
      "metadata": {
        "id": "8P3f7Nv3dKbO"
      }
    },
    {
      "cell_type": "code",
      "source": [
        "df_r61 = df2.groupBy('game_id').\\\n",
        "         agg(F.count(F.col('game_id')).alias('number_of_moves'))"
      ],
      "metadata": {
        "id": "uy5WisHZdIcX"
      },
      "execution_count": null,
      "outputs": []
    },
    {
      "cell_type": "code",
      "source": [
        "df_r61 = df_r61.select(F.col('game_id'),\\\n",
        "                       F.floor(F.col('number_of_moves') / 2).alias('number_of_moves')).\\\n",
        "                       orderBy(F.col('number_of_moves').desc())"
      ],
      "metadata": {
        "id": "nIWlC30_dWob"
      },
      "execution_count": null,
      "outputs": []
    },
    {
      "cell_type": "code",
      "source": [
        "df_r62 = df1.filter(F.col('winner') == 'draw').\\\n",
        "         select(F.col('game_id'), F.col('event'), F.col('tournament_name'))"
      ],
      "metadata": {
        "id": "-SDvPQYMdZE3"
      },
      "execution_count": null,
      "outputs": []
    },
    {
      "cell_type": "code",
      "source": [
        "df_r6 = df_r62.alias('tab1').join(df_r61.alias('tab2'),\\\n",
        "                                  F.col('tab1.game_id') == F.col('tab2.game_id'), 'inner').\\\n",
        "        select(F.col('tab1.game_id'), F.col('tab1.event'), F.col('tab1.tournament_name'), F.col('tab2.number_of_moves')).\\\n",
        "        orderBy(F.col('number_of_moves').desc())"
      ],
      "metadata": {
        "id": "axZP_FWYddRf"
      },
      "execution_count": null,
      "outputs": []
    },
    {
      "cell_type": "code",
      "source": [
        "coll= df_r6.collect()\n",
        "l=[]\n",
        "l.append([coll[0][0], coll[0][1],coll[0][2], coll[0][3] ])\n",
        "l.append([coll[df_r6.count() - 1][0], coll[df_r6.count() - 1][1],coll[df_r6.count() - 1][2], coll[df_r6.count() - 1][3]])\n",
        "#print(l)\n",
        "df_r6 = spark.createDataFrame(l, ['game_id', 'event', 'tournament_name','number_of_moves'])"
      ],
      "metadata": {
        "id": "X6xYavX7dhFd"
      },
      "execution_count": null,
      "outputs": []
    },
    {
      "cell_type": "code",
      "source": [
        "df_r6.show()\n",
        "my_function(df_r6)"
      ],
      "metadata": {
        "colab": {
          "base_uri": "https://localhost:8080/"
        },
        "id": "RYNXAYCndl5e",
        "outputId": "932fd246-4a36-464d-8123-e2c74fdf5ed7"
      },
      "execution_count": null,
      "outputs": [
        {
          "output_type": "stream",
          "name": "stdout",
          "text": [
            "+--------------------+-------------+---------------+---------------+\n",
            "|             game_id|        event|tournament_name|number_of_moves|\n",
            "+--------------------+-------------+---------------+---------------+\n",
            "|88f34084-e4df-490...|  FIDE WCh KO|  FideChamp2002|            129|\n",
            "|a27c2b95-fb62-4b6...|FIDE-Wch k.o.|  FideChamp1998|              6|\n",
            "+--------------------+-------------+---------------+---------------+\n",
            "\n"
          ]
        }
      ]
    },
    {
      "cell_type": "markdown",
      "source": [
        "**SOLUTION** **7** : Most and Least rated Player"
      ],
      "metadata": {
        "id": "K4RaNWc1eBGS"
      }
    },
    {
      "cell_type": "code",
      "source": [
        "df_r71 = df1.filter(F.col('winner') != 'draw').\\\n",
        "            groupBy(F.col('winner').alias('player')).\\\n",
        "              agg(F.sum(F.col('winner_elo')).alias('elo'))"
      ],
      "metadata": {
        "id": "Toe5hdkbdsFE"
      },
      "execution_count": null,
      "outputs": []
    },
    {
      "cell_type": "code",
      "source": [
        "df_r72 = df1.filter(F.col('loser') != 'draw').\\\n",
        "           groupBy(F.col('loser').alias('player')).\\\n",
        "             agg(F.sum(F.col('loser_elo')).alias('elo'))"
      ],
      "metadata": {
        "id": "3MXyIzAleFz5"
      },
      "execution_count": null,
      "outputs": []
    },
    {
      "cell_type": "code",
      "source": [
        "df_r73 = df_r71.unionAll(df_r72)\n",
        "df_r74 = df_r73.groupBy('player').\\\n",
        "         agg(F.sum(F.col('elo')).alias('elo')).\\\n",
        "         orderBy(F.col('elo').desc())"
      ],
      "metadata": {
        "id": "P1gx-lodeIwP"
      },
      "execution_count": null,
      "outputs": []
    },
    {
      "cell_type": "code",
      "source": [
        "df_r74 = df_r74.na.drop(how=\"any\")"
      ],
      "metadata": {
        "id": "LaxZs2F3eUsp"
      },
      "execution_count": null,
      "outputs": []
    },
    {
      "cell_type": "code",
      "source": [
        "coll= df_r74.collect()\n",
        "l=[]\n",
        "l.append([coll[0][0], coll[0][1] ])\n",
        "l.append([coll[df_r74.count() - 1][0], coll[df_r74.count() - 1][1]])\n",
        "df_r75 = spark.createDataFrame(l, ['player_name', 'elo'])"
      ],
      "metadata": {
        "id": "tb3MWhcfeyjK"
      },
      "execution_count": null,
      "outputs": []
    },
    {
      "cell_type": "code",
      "source": [
        "df_r75.show()\n",
        "my_function(df_r75)"
      ],
      "metadata": {
        "colab": {
          "base_uri": "https://localhost:8080/"
        },
        "id": "R4ZBwWqUe_B3",
        "outputId": "76519623-25a3-479d-a399-b874a8d81d6a"
      },
      "execution_count": null,
      "outputs": [
        {
          "output_type": "stream",
          "name": "stdout",
          "text": [
            "+---------------+------+\n",
            "|    player_name|   elo|\n",
            "+---------------+------+\n",
            "|Karpov, Anatoly|226160|\n",
            "|    Utnasunov,A|  2257|\n",
            "+---------------+------+\n",
            "\n"
          ]
        }
      ]
    },
    {
      "cell_type": "markdown",
      "source": [
        "**SOLUTION** **8** : 3rd Last Player with most Loss"
      ],
      "metadata": {
        "id": "ZZGFWUESfMof"
      }
    },
    {
      "cell_type": "code",
      "source": [
        "df_r81 = df1.filter(F.col('loser') != 'draw').\\\n",
        "            groupBy(F.col('loser').alias('player_name')).\\\n",
        "              agg(F.count(F.col('loser')).alias('count')).\\\n",
        "                orderBy(F.col('count').asc(),F.col('player_name').asc())"
      ],
      "metadata": {
        "id": "K5Hi2K2DfIHP"
      },
      "execution_count": null,
      "outputs": []
    },
    {
      "cell_type": "code",
      "source": [
        "name = df_r81.collect()[df_r81.count() - 3][0]\n",
        "df_8 = df_r81.filter(F.col('player_name') == name).select('player_name')\n",
        "df_8.show()\n",
        "my_function(df_r81)"
      ],
      "metadata": {
        "colab": {
          "base_uri": "https://localhost:8080/"
        },
        "id": "H11rX86cfVju",
        "outputId": "a47c9bb2-f04b-4701-e1ee-0b16ac70efe9"
      },
      "execution_count": null,
      "outputs": [
        {
          "output_type": "stream",
          "name": "stdout",
          "text": [
            "+---------------+\n",
            "|    player_name|\n",
            "+---------------+\n",
            "|Karpov, Anatoly|\n",
            "+---------------+\n",
            "\n"
          ]
        }
      ]
    },
    {
      "cell_type": "markdown",
      "source": [
        "**SOLUTION** **9** :  How many times players with low rating won matches with their total win Count"
      ],
      "metadata": {
        "id": "NMneznZZhT_s"
      }
    },
    {
      "cell_type": "code",
      "source": [
        "avg = df_r74.agg({'elo' : 'avg'}).collect()[0][0]\n",
        "df_r92 = df_r74.filter(F.col('elo') < avg)"
      ],
      "metadata": {
        "id": "PrW5lZXgfhlQ"
      },
      "execution_count": null,
      "outputs": []
    },
    {
      "cell_type": "code",
      "source": [
        "df_r91 = df1.filter(F.col('winner') != 'draw').\\\n",
        "           groupBy(F.col('winner').alias('player_name')).\\\n",
        "             agg(F.count(F.col('winner')).alias('win_count'))"
      ],
      "metadata": {
        "id": "2gR9PNK_hpmx"
      },
      "execution_count": null,
      "outputs": []
    },
    {
      "cell_type": "code",
      "source": [
        "df_r93 = df_r91.alias('tab1').join(df_r92.alias('tab2'),\\\n",
        "                                   F.col('tab1.player_name') == F.col('tab2.player'), 'inner').\\\n",
        "        select(F.col('tab1.player_name'), F.col('tab1.win_count'))"
      ],
      "metadata": {
        "id": "o3D8Tek5htQN"
      },
      "execution_count": null,
      "outputs": []
    },
    {
      "cell_type": "code",
      "source": [
        "df_r93.show()\n",
        "my_function(df_r93)"
      ],
      "metadata": {
        "colab": {
          "base_uri": "https://localhost:8080/"
        },
        "id": "ddN6OboIhv7l",
        "outputId": "0018a9d3-9f43-4a7a-bf69-c130193e1052"
      },
      "execution_count": null,
      "outputs": [
        {
          "output_type": "stream",
          "name": "stdout",
          "text": [
            "+------------------+---------+\n",
            "|       player_name|win_count|\n",
            "+------------------+---------+\n",
            "|   Fridman, Daniel|        2|\n",
            "|   Alterman, Boris|        1|\n",
            "|   Jussupow, Artur|        1|\n",
            "|          Piket,Je|        3|\n",
            "|       Onischuk,Al|        1|\n",
            "|    Kacheishvili,G|        1|\n",
            "|          Luther,T|        3|\n",
            "|         Carlsen,M|        4|\n",
            "|         Ivanov,AV|        1|\n",
            "|Istratescu, Andrei|        2|\n",
            "| Miladinovic, Igor|        2|\n",
            "|     Kotsur, Pavel|        1|\n",
            "|      Benjamin,Joe|        3|\n",
            "|       Yu Shaoteng|        1|\n",
            "|    Benjamin, Joel|        1|\n",
            "|     Adianto, Utut|        2|\n",
            "|      Glek, Igor V|        1|\n",
            "|    Shipov, Sergei|        1|\n",
            "|Ponomariov, Ruslan|        2|\n",
            "|            Pina,S|        1|\n",
            "+------------------+---------+\n",
            "only showing top 20 rows\n",
            "\n"
          ]
        }
      ]
    },
    {
      "cell_type": "markdown",
      "source": [
        "**SOLUTION** **12** :  All Perfect Tournament with Winner Name"
      ],
      "metadata": {
        "id": "zgbSqAXoi2n1"
      }
    },
    {
      "cell_type": "code",
      "source": [
        "df_r121 = df1.filter(F.col('winner') != 'draw').\\\n",
        "            groupBy('tournament_name').\\\n",
        "            agg(F.count(F.col('tournament_name')).alias('count_event'))"
      ],
      "metadata": {
        "id": "ckPuTSlghzK9"
      },
      "execution_count": null,
      "outputs": []
    },
    {
      "cell_type": "code",
      "source": [
        "df_r122 = df1.filter(F.col('winner') != 'draw').\\\n",
        "            groupBy(F.col('tournament_name'),F.col('winner')).\\\n",
        "            agg(F.count(F.col('winner')).alias('count_wins'))"
      ],
      "metadata": {
        "id": "4nOBJfK1i-FU"
      },
      "execution_count": null,
      "outputs": []
    },
    {
      "cell_type": "code",
      "source": [
        "df_r123 = df_r121.alias('tab1').join(df_r122.alias('tab2'),\\\n",
        "                                     F.col('tab1.tournament_name') == F.col('tab2.tournament_name'), 'inner').\\\n",
        "          select(F.col('tab1.tournament_name'), F.col('tab2.winner'), F.col('tab2.count_wins'), F.col('tab1.count_event'))"
      ],
      "metadata": {
        "id": "EwEpbyEPjDA5"
      },
      "execution_count": null,
      "outputs": []
    },
    {
      "cell_type": "code",
      "source": [
        "df_r124 = df_r123.filter(F.col('count_wins') == F.col('count_event')).\\\n",
        "             select(F.col('winner').alias('winner_name'), F.col('tournament_name'))"
      ],
      "metadata": {
        "id": "g250dek-jFXt"
      },
      "execution_count": null,
      "outputs": []
    },
    {
      "cell_type": "code",
      "source": [
        "df_r124.show()\n",
        "my_function(df_r124)"
      ],
      "metadata": {
        "colab": {
          "base_uri": "https://localhost:8080/"
        },
        "id": "VcamfVLgjIU7",
        "outputId": "44d947f6-1e0b-41e3-bb99-4d63f2f0eb3e"
      },
      "execution_count": null,
      "outputs": [
        {
          "output_type": "stream",
          "name": "stdout",
          "text": [
            "+--------------------+---------------+\n",
            "|         winner_name|tournament_name|\n",
            "+--------------------+---------------+\n",
            "|Capablanca, Jose ...| WorldChamp1921|\n",
            "|           Carlsen,M| WorldChamp2021|\n",
            "|     Lasker, Emanuel| WorldChamp1907|\n",
            "|     Carlsen, Magnus| WorldChamp2013|\n",
            "|     Lasker, Emanuel|WorldChamp1910b|\n",
            "|           Kramnik,V| WorldChamp2000|\n",
            "+--------------------+---------------+\n",
            "\n"
          ]
        }
      ]
    },
    {
      "cell_type": "markdown",
      "source": [
        "**SOLUTION** **13** : Player with highest winning ratio"
      ],
      "metadata": {
        "id": "XLoGqZlMj4H8"
      }
    },
    {
      "cell_type": "code",
      "source": [
        "df_131 = df1.groupBy(F.col('white').alias('player')).\\\n",
        "            agg(F.count(F.col('white')).alias('count'))"
      ],
      "metadata": {
        "id": "v7OE8b5Ejo88"
      },
      "execution_count": null,
      "outputs": []
    },
    {
      "cell_type": "code",
      "source": [
        "df_132 = df1.groupBy(F.col('black').alias('player')).\\\n",
        "            agg(F.count(F.col('black')).alias('count'))"
      ],
      "metadata": {
        "id": "R_Q8vUTNkI2_"
      },
      "execution_count": null,
      "outputs": []
    },
    {
      "cell_type": "code",
      "source": [
        "df_133 = df_131.union(df_132).groupBy('player').\\\n",
        "            agg(F.sum(F.col('count')).alias('number_of_matches'))"
      ],
      "metadata": {
        "id": "F1Y4ZwfjkMx4"
      },
      "execution_count": null,
      "outputs": []
    },
    {
      "cell_type": "code",
      "source": [
        "df_134 = df1.filter(F.col('winner') != 'draw').\\\n",
        "            groupBy(F.col('winner').alias('player')).\\\n",
        "              agg(F.count(F.col('winner')).alias('count_of_wins'))"
      ],
      "metadata": {
        "id": "IH9AggSJkZ0R"
      },
      "execution_count": null,
      "outputs": []
    },
    {
      "cell_type": "code",
      "source": [
        "df_135 = df_134.alias('tab1').join(df_133.alias('tab2'),\\\n",
        "                                   F.col('tab1.player') == F.col('tab2.player'), 'inner').\\\n",
        "          select(F.col('tab1.player'), F.col('tab1.count_of_wins'), F.col('tab2.number_of_matches'))"
      ],
      "metadata": {
        "id": "Zp2Ah_Vzkg1J"
      },
      "execution_count": null,
      "outputs": []
    },
    {
      "cell_type": "code",
      "source": [
        "df_136 = df_135.select(F.col('player'),\\\n",
        "                       (F.col('count_of_wins')/F.col('number_of_matches')).alias('ratio')).\\\n",
        "                       orderBy(F.col('ratio').desc()).limit(1).\\\n",
        "                       select(F.col('player'))"
      ],
      "metadata": {
        "id": "Jbl8ImGrkrOH"
      },
      "execution_count": null,
      "outputs": []
    },
    {
      "cell_type": "code",
      "source": [
        "df_136.show()\n",
        "my_function(df_136)"
      ],
      "metadata": {
        "colab": {
          "base_uri": "https://localhost:8080/"
        },
        "id": "jP-Psgk7k7O3",
        "outputId": "a276dafc-d04b-49bc-dcef-795a7f461362"
      },
      "execution_count": null,
      "outputs": [
        {
          "output_type": "stream",
          "name": "stdout",
          "text": [
            "+--------+\n",
            "|  player|\n",
            "+--------+\n",
            "|Karlov,A|\n",
            "+--------+\n",
            "\n"
          ]
        }
      ]
    },
    {
      "cell_type": "markdown",
      "source": [
        "**SOLUTION** **14** : Player who had given checkmate with Pawn"
      ],
      "metadata": {
        "id": "xXgGYR-5gYff"
      }
    },
    {
      "cell_type": "code",
      "source": [
        "df_141 = df2.filter((F.col('is_check_mate')==1)&(F.col('piece').contains('P'))).\\\n",
        "            select(F.col('player').alias('player_name'))\n"
      ],
      "metadata": {
        "id": "JuYi0opkgb7D"
      },
      "execution_count": null,
      "outputs": []
    },
    {
      "cell_type": "code",
      "source": [
        "df_141.show()\n",
        "my_function(df_141)"
      ],
      "metadata": {
        "colab": {
          "base_uri": "https://localhost:8080/"
        },
        "id": "5yublh7k36B6",
        "outputId": "4a0afc2c-ef13-4cb3-c7ae-3e4d031ff432"
      },
      "execution_count": null,
      "outputs": [
        {
          "output_type": "stream",
          "name": "stdout",
          "text": [
            "+--------------+\n",
            "|   player_name|\n",
            "+--------------+\n",
            "|Andersson, Ulf|\n",
            "+--------------+\n",
            "\n"
          ]
        }
      ]
    },
    {
      "cell_type": "code",
      "source": [
        "import os\n",
        "dir = \"DE_SOLUTION_Ketan_Nalwaya\"\n",
        "pdir = \"drive/MyDrive/\"\n",
        "path = os.path.join(pdir,dir)\n",
        "os.mkdir(path)"
      ],
      "metadata": {
        "id": "GPtzsTpdk_q-"
      },
      "execution_count": null,
      "outputs": []
    },
    {
      "cell_type": "code",
      "source": [
        "dr = \"results\"\n",
        "pdr = \"drive/MyDrive/DE_SOLUTION_Ketan_Nalwaya/\"\n",
        "pth = os.path.join(pdr,dr)\n",
        "os.mkdir(pth)"
      ],
      "metadata": {
        "id": "PVRI26pCU1Ud"
      },
      "execution_count": null,
      "outputs": []
    },
    {
      "cell_type": "code",
      "source": [
        "#Converting Spark Dataframes into Pandas\n",
        "b=[]\n",
        "for i in range(len(lst_df)):\n",
        "  b.append(lst_df[i].toPandas())\n"
      ],
      "metadata": {
        "id": "-KtQyE_AWcRR"
      },
      "execution_count": null,
      "outputs": []
    },
    {
      "cell_type": "code",
      "source": [
        "#Converting Pandas to csv and saving in the drive.\n",
        "ph = 'drive/MyDrive/'\n",
        "fnames = ['df1','df2','df3','df4','df5','df6','df7','df8','df9','df12','df13','df14']\n",
        "for j in range(len(b)):\n",
        "  b[j].to_csv(f'drive/MyDrive/DE_SOLUTION_Ketan_Nalwaya/results/{fnames[j]}.csv',header=True)"
      ],
      "metadata": {
        "id": "IkmW1K3vcEen"
      },
      "execution_count": null,
      "outputs": []
    },
    {
      "cell_type": "code",
      "source": [],
      "metadata": {
        "id": "RrDhR4X320FI"
      },
      "execution_count": null,
      "outputs": []
    }
  ],
  "metadata": {
    "colab": {
      "collapsed_sections": [],
      "provenance": []
    },
    "kernelspec": {
      "display_name": "Python 3",
      "name": "python3"
    },
    "language_info": {
      "name": "python"
    }
  },
  "nbformat": 4,
  "nbformat_minor": 0
}